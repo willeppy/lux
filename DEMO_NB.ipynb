{
 "cells": [
  {
   "cell_type": "markdown",
   "id": "acceptable-lodging",
   "metadata": {},
   "source": [
    "# Demo"
   ]
  },
  {
   "cell_type": "code",
   "execution_count": 1,
   "id": "exceptional-roads",
   "metadata": {
    "ExecuteTime": {
     "end_time": "2021-06-10T06:36:42.954354Z",
     "start_time": "2021-06-10T06:36:41.469405Z"
    }
   },
   "outputs": [
    {
     "data": {
      "text/plain": [
       "140629827823768"
      ]
     },
     "execution_count": 1,
     "metadata": {},
     "output_type": "execute_result"
    }
   ],
   "source": [
    "import lux\n",
    "from vega_datasets import data\n",
    "import numpy as np\n",
    "import pandas as pd\n",
    "from IPython.core.debugger import set_trace\n",
    "\n",
    "lux.config.default_display = \"lux\"\n",
    "\n",
    "df = data.cars()\n",
    "id(df)"
   ]
  },
  {
   "cell_type": "code",
   "execution_count": 2,
   "id": "alive-freeze",
   "metadata": {
    "ExecuteTime": {
     "end_time": "2021-06-10T06:37:37.501082Z",
     "start_time": "2021-06-10T06:36:47.735611Z"
    }
   },
   "outputs": [
    {
     "name": "stdout",
     "output_type": "stream",
     "text": [
      "> \u001b[0;32m/Users/acorn/University/Research/DIG/lux/lux/core/frame.py\u001b[0m(462)\u001b[0;36mmaintain_recs\u001b[0;34m()\u001b[0m\n",
      "\u001b[0;32m    460 \u001b[0;31m                    \u001b[0mself\u001b[0m\u001b[0;34m.\u001b[0m\u001b[0m_recommendation\u001b[0m\u001b[0;34m[\u001b[0m\u001b[0maction_type\u001b[0m\u001b[0;34m]\u001b[0m \u001b[0;34m=\u001b[0m \u001b[0mvlist\u001b[0m\u001b[0;34m\u001b[0m\u001b[0;34m\u001b[0m\u001b[0m\n",
      "\u001b[0m\u001b[0;32m    461 \u001b[0;31m            \u001b[0mset_trace\u001b[0m\u001b[0;34m(\u001b[0m\u001b[0;34m)\u001b[0m\u001b[0;34m\u001b[0m\u001b[0;34m\u001b[0m\u001b[0m\n",
      "\u001b[0m\u001b[0;32m--> 462 \u001b[0;31m            \u001b[0mself\u001b[0m\u001b[0;34m.\u001b[0m\u001b[0m_rec_info\u001b[0m \u001b[0;34m=\u001b[0m \u001b[0mrec_infolist\u001b[0m\u001b[0;34m\u001b[0m\u001b[0;34m\u001b[0m\u001b[0m\n",
      "\u001b[0m\u001b[0;32m    463 \u001b[0;31m            \u001b[0mself\u001b[0m\u001b[0;34m.\u001b[0m\u001b[0mshow_all_column_vis\u001b[0m\u001b[0;34m(\u001b[0m\u001b[0;34m)\u001b[0m\u001b[0;34m\u001b[0m\u001b[0;34m\u001b[0m\u001b[0m\n",
      "\u001b[0m\u001b[0;32m    464 \u001b[0;31m            \u001b[0mself\u001b[0m\u001b[0;34m.\u001b[0m\u001b[0m_widget\u001b[0m \u001b[0;34m=\u001b[0m \u001b[0mself\u001b[0m\u001b[0;34m.\u001b[0m\u001b[0mrender_widget\u001b[0m\u001b[0;34m(\u001b[0m\u001b[0;34m)\u001b[0m\u001b[0;34m\u001b[0m\u001b[0;34m\u001b[0m\u001b[0m\n",
      "\u001b[0m\n",
      "ipdb> c\n"
     ]
    },
    {
     "data": {
      "application/vnd.jupyter.widget-view+json": {
       "model_id": "a81c3a945a6d4a77bc9a53b11cadf9c5",
       "version_major": 2,
       "version_minor": 0
      },
      "text/plain": [
       "Button(description='Toggle Pandas/Lux', layout=Layout(top='5px', width='140px'), style=ButtonStyle())"
      ]
     },
     "metadata": {},
     "output_type": "display_data"
    },
    {
     "data": {
      "application/vnd.jupyter.widget-view+json": {
       "model_id": "f5973824aea14856a82e33a851ea2217",
       "version_major": 2,
       "version_minor": 0
      },
      "text/plain": [
       "Output()"
      ]
     },
     "metadata": {},
     "output_type": "display_data"
    }
   ],
   "source": [
    "df"
   ]
  },
  {
   "cell_type": "markdown",
   "id": "worthy-netscape",
   "metadata": {},
   "source": [
    "## Column manipulations"
   ]
  },
  {
   "cell_type": "code",
   "execution_count": null,
   "id": "mature-georgia",
   "metadata": {},
   "outputs": [],
   "source": [
    "df[\"Name\"] = df[\"Name\"].map(lambda a:a.split()[0])\n",
    "df[\"new_col\"] = np.random.randint(0, 100, size=len(df))\n"
   ]
  },
  {
   "cell_type": "code",
   "execution_count": null,
   "id": "expressed-facility",
   "metadata": {},
   "outputs": [],
   "source": [
    "df"
   ]
  },
  {
   "cell_type": "markdown",
   "id": "delayed-start",
   "metadata": {},
   "source": [
    "## Describe"
   ]
  },
  {
   "cell_type": "code",
   "execution_count": null,
   "id": "emotional-admission",
   "metadata": {},
   "outputs": [],
   "source": [
    "df.describe()"
   ]
  },
  {
   "cell_type": "markdown",
   "id": "bound-tenant",
   "metadata": {},
   "source": [
    "## Explicit input"
   ]
  },
  {
   "cell_type": "code",
   "execution_count": null,
   "id": "communist-equilibrium",
   "metadata": {},
   "outputs": [],
   "source": [
    "df.intent = [\"Miles_per_Gallon\"]\n",
    "df"
   ]
  },
  {
   "cell_type": "code",
   "execution_count": null,
   "id": "superb-assist",
   "metadata": {},
   "outputs": [],
   "source": [
    "df.intent = [\"Weight_in_lbs\"]\n",
    "df"
   ]
  },
  {
   "cell_type": "code",
   "execution_count": null,
   "id": "norwegian-martin",
   "metadata": {},
   "outputs": [],
   "source": []
  },
  {
   "cell_type": "markdown",
   "id": "talented-romania",
   "metadata": {},
   "source": [
    "## Filters"
   ]
  },
  {
   "cell_type": "code",
   "execution_count": null,
   "id": "abstract-prize",
   "metadata": {},
   "outputs": [],
   "source": [
    "df = data.cars()\n",
    "# id(df)"
   ]
  },
  {
   "cell_type": "code",
   "execution_count": null,
   "id": "comic-square",
   "metadata": {},
   "outputs": [],
   "source": [
    "r = df.Origin.value_counts()\n",
    "r = df.Displacement.value_counts()"
   ]
  },
  {
   "cell_type": "code",
   "execution_count": null,
   "id": "filled-month",
   "metadata": {},
   "outputs": [],
   "source": [
    "df[df.Cylinders > 4]"
   ]
  },
  {
   "cell_type": "code",
   "execution_count": null,
   "id": "responsible-wrestling",
   "metadata": {},
   "outputs": [],
   "source": [
    "df_2 = df[(df.Weight_in_lbs < 2800) & (df.Acceleration > 12)]\n",
    "\n",
    "df_3 = ..."
   ]
  },
  {
   "cell_type": "markdown",
   "id": "physical-perspective",
   "metadata": {},
   "source": [
    "# Groupby"
   ]
  },
  {
   "cell_type": "markdown",
   "id": "rubber-spanish",
   "metadata": {},
   "source": [
    "df aggs"
   ]
  },
  {
   "cell_type": "code",
   "execution_count": null,
   "id": "resistant-invite",
   "metadata": {},
   "outputs": [],
   "source": [
    "df.mean()"
   ]
  },
  {
   "cell_type": "code",
   "execution_count": null,
   "id": "behavioral-mineral",
   "metadata": {},
   "outputs": [],
   "source": [
    "df.groupby(\"Cylinders\").agg({\"Miles_per_Gallon\": \"mean\", \"Horsepower\": \"median\", \"Displacement\": \"min\"})\n",
    "\n"
   ]
  },
  {
   "cell_type": "code",
   "execution_count": null,
   "id": "failing-fifty",
   "metadata": {},
   "outputs": [],
   "source": [
    "df"
   ]
  },
  {
   "cell_type": "code",
   "execution_count": null,
   "id": "explicit-april",
   "metadata": {},
   "outputs": [],
   "source": [
    "df.exported[0]"
   ]
  },
  {
   "cell_type": "code",
   "execution_count": null,
   "id": "breathing-bernard",
   "metadata": {},
   "outputs": [],
   "source": [
    "df"
   ]
  },
  {
   "cell_type": "code",
   "execution_count": 3,
   "id": "brave-elimination",
   "metadata": {
    "ExecuteTime": {
     "end_time": "2021-06-10T06:38:04.139084Z",
     "start_time": "2021-06-10T06:38:02.725614Z"
    }
   },
   "outputs": [
    {
     "name": "stdout",
     "output_type": "stream",
     "text": [
      "> \u001b[0;32m/Users/acorn/University/Research/DIG/lux/lux/core/frame.py\u001b[0m(462)\u001b[0;36mmaintain_recs\u001b[0;34m()\u001b[0m\n",
      "\u001b[0;32m    460 \u001b[0;31m                    \u001b[0mself\u001b[0m\u001b[0;34m.\u001b[0m\u001b[0m_recommendation\u001b[0m\u001b[0;34m[\u001b[0m\u001b[0maction_type\u001b[0m\u001b[0;34m]\u001b[0m \u001b[0;34m=\u001b[0m \u001b[0mvlist\u001b[0m\u001b[0;34m\u001b[0m\u001b[0;34m\u001b[0m\u001b[0m\n",
      "\u001b[0m\u001b[0;32m    461 \u001b[0;31m            \u001b[0mset_trace\u001b[0m\u001b[0;34m(\u001b[0m\u001b[0;34m)\u001b[0m\u001b[0;34m\u001b[0m\u001b[0;34m\u001b[0m\u001b[0m\n",
      "\u001b[0m\u001b[0;32m--> 462 \u001b[0;31m            \u001b[0mself\u001b[0m\u001b[0;34m.\u001b[0m\u001b[0m_rec_info\u001b[0m \u001b[0;34m=\u001b[0m \u001b[0mrec_infolist\u001b[0m\u001b[0;34m\u001b[0m\u001b[0;34m\u001b[0m\u001b[0m\n",
      "\u001b[0m\u001b[0;32m    463 \u001b[0;31m            \u001b[0mself\u001b[0m\u001b[0;34m.\u001b[0m\u001b[0mshow_all_column_vis\u001b[0m\u001b[0;34m(\u001b[0m\u001b[0;34m)\u001b[0m\u001b[0;34m\u001b[0m\u001b[0;34m\u001b[0m\u001b[0m\n",
      "\u001b[0m\u001b[0;32m    464 \u001b[0;31m            \u001b[0mself\u001b[0m\u001b[0;34m.\u001b[0m\u001b[0m_widget\u001b[0m \u001b[0;34m=\u001b[0m \u001b[0mself\u001b[0m\u001b[0;34m.\u001b[0m\u001b[0mrender_widget\u001b[0m\u001b[0;34m(\u001b[0m\u001b[0;34m)\u001b[0m\u001b[0;34m\u001b[0m\u001b[0;34m\u001b[0m\u001b[0m\n",
      "\u001b[0m\n",
      "ipdb> c\n"
     ]
    },
    {
     "name": "stderr",
     "output_type": "stream",
     "text": [
      "/Library/Frameworks/Python.framework/Versions/3.7/lib/python3.7/site-packages/IPython/core/formatters.py:918: UserWarning:\n",
      "Unexpected error in rendering Lux widget and recommendations. Falling back to Pandas display.\n",
      "Please report the following issue on Github: https://github.com/lux-org/lux/issues \n",
      "\n",
      "/Users/acorn/University/Research/DIG/lux/lux/core/series.py:223: UserWarning:Traceback (most recent call last):\n",
      "  File \"/Library/Frameworks/Python.framework/Versions/3.7/lib/python3.7/site-packages/pandas/core/algorithms.py\", line 2123, in safe_sort\n",
      "    sorter = values.argsort()\n",
      "TypeError: '<' not supported between instances of 'Timedelta' and 'numpy.float64'\n",
      "\n",
      "During handling of the above exception, another exception occurred:\n",
      "\n",
      "Traceback (most recent call last):\n",
      "  File \"/Users/acorn/University/Research/DIG/lux/lux/core/series.py\", line 179, in _ipython_display_\n",
      "    ldf.maintain_recs(is_series=\"Series\")\n",
      "  File \"/Users/acorn/University/Research/DIG/lux/lux/core/frame.py\", line 462, in maintain_recs\n",
      "    self._rec_info = rec_infolist\n",
      "  File \"/Users/acorn/University/Research/DIG/lux/lux/core/frame.py\", line 388, in show_all_column_vis\n",
      "    vis = Vis(list(self.columns), self)\n",
      "  File \"/Users/acorn/University/Research/DIG/lux/lux/vis/Vis.py\", line 38, in __init__\n",
      "    self.refresh_source(self._source)\n",
      "  File \"/Users/acorn/University/Research/DIG/lux/lux/vis/Vis.py\", line 357, in refresh_source\n",
      "    lux.config.executor.execute([self], ldf)\n",
      "  File \"/Users/acorn/University/Research/DIG/lux/lux/executor/PandasExecutor.py\", line 101, in execute\n",
      "    PandasExecutor.execute_aggregate(vis, isFiltered=filter_executed)\n",
      "  File \"/Users/acorn/University/Research/DIG/lux/lux/executor/PandasExecutor.py\", line 183, in execute_aggregate\n",
      "    vis.data.groupby(groupby_attr.attribute, dropna=False, history=False)\n",
      "  File \"/Users/acorn/University/Research/DIG/lux/lux/core/groupby.py\", line 154, in count\n",
      "    return self._eval_agg_function_lux(\"count\", *args, **kwargs)\n",
      "  File \"/Users/acorn/University/Research/DIG/lux/lux/core/groupby.py\", line 133, in _eval_agg_function_lux\n",
      "    ret_value = method(*args, **kwargs)\n",
      "  File \"/Library/Frameworks/Python.framework/Versions/3.7/lib/python3.7/site-packages/pandas/core/groupby/generic.py\", line 1734, in count\n",
      "    ids, _, ngroups = self.grouper.group_info\n",
      "  File \"pandas/_libs/properties.pyx\", line 33, in pandas._libs.properties.CachedProperty.__get__\n",
      "  File \"/Library/Frameworks/Python.framework/Versions/3.7/lib/python3.7/site-packages/pandas/core/groupby/ops.py\", line 300, in group_info\n",
      "    comp_ids, obs_group_ids = self._get_compressed_codes()\n",
      "  File \"/Library/Frameworks/Python.framework/Versions/3.7/lib/python3.7/site-packages/pandas/core/groupby/ops.py\", line 318, in _get_compressed_codes\n",
      "    all_codes = self.codes\n",
      "  File \"/Library/Frameworks/Python.framework/Versions/3.7/lib/python3.7/site-packages/pandas/core/groupby/ops.py\", line 259, in codes\n",
      "    return [ping.codes for ping in self.groupings]\n",
      "  File \"/Library/Frameworks/Python.framework/Versions/3.7/lib/python3.7/site-packages/pandas/core/groupby/ops.py\", line 259, in <listcomp>\n",
      "    return [ping.codes for ping in self.groupings]\n",
      "  File \"/Library/Frameworks/Python.framework/Versions/3.7/lib/python3.7/site-packages/pandas/core/groupby/grouper.py\", line 591, in codes\n",
      "    self._make_codes()\n",
      "  File \"/Library/Frameworks/Python.framework/Versions/3.7/lib/python3.7/site-packages/pandas/core/groupby/grouper.py\", line 624, in _make_codes\n",
      "    self.grouper, sort=self.sort, na_sentinel=na_sentinel\n",
      "  File \"/Library/Frameworks/Python.framework/Versions/3.7/lib/python3.7/site-packages/pandas/core/algorithms.py\", line 728, in factorize\n",
      "    uniques, codes, na_sentinel=na_sentinel, assume_unique=True, verify=False\n",
      "  File \"/Library/Frameworks/Python.framework/Versions/3.7/lib/python3.7/site-packages/pandas/core/algorithms.py\", line 2132, in safe_sort\n",
      "    ordered = _sort_mixed(values)\n",
      "  File \"/Library/Frameworks/Python.framework/Versions/3.7/lib/python3.7/site-packages/pandas/core/algorithms.py\", line 2184, in _sort_mixed\n",
      "    nums = np.sort(values[~str_pos])\n",
      "  File \"<__array_function__ internals>\", line 6, in sort\n",
      "  File \"/Library/Frameworks/Python.framework/Versions/3.7/lib/python3.7/site-packages/numpy/core/fromnumeric.py\", line 996, in sort\n",
      "    a.sort(axis=axis, kind=kind, order=order)\n",
      "TypeError: '<' not supported between instances of 'Timedelta' and 'numpy.float64'\n",
      "\n"
     ]
    },
    {
     "data": {
      "text/plain": [
       "Miles_per_Gallon                        7.815984\n",
       "Cylinders                                1.71216\n",
       "Displacement                          104.922458\n",
       "Horsepower                             38.768779\n",
       "Weight_in_lbs                         847.004328\n",
       "Acceleration                            2.803359\n",
       "Year                1408 days 15:41:09.858113472\n",
       "Name:  , dtype: object"
      ]
     },
     "metadata": {},
     "output_type": "display_data"
    }
   ],
   "source": [
    "df.std()"
   ]
  },
  {
   "cell_type": "code",
   "execution_count": null,
   "id": "sound-drunk",
   "metadata": {},
   "outputs": [],
   "source": []
  }
 ],
 "metadata": {
  "kernelspec": {
   "display_name": "Python 3",
   "language": "python",
   "name": "python3"
  },
  "language_info": {
   "codemirror_mode": {
    "name": "ipython",
    "version": 3
   },
   "file_extension": ".py",
   "mimetype": "text/x-python",
   "name": "python",
   "nbconvert_exporter": "python",
   "pygments_lexer": "ipython3",
   "version": "3.7.3"
  },
  "varInspector": {
   "cols": {
    "lenName": 16,
    "lenType": 16,
    "lenVar": 40
   },
   "kernels_config": {
    "python": {
     "delete_cmd_postfix": "",
     "delete_cmd_prefix": "del ",
     "library": "var_list.py",
     "varRefreshCmd": "print(var_dic_list())"
    },
    "r": {
     "delete_cmd_postfix": ") ",
     "delete_cmd_prefix": "rm(",
     "library": "var_list.r",
     "varRefreshCmd": "cat(var_dic_list()) "
    }
   },
   "types_to_exclude": [
    "module",
    "function",
    "builtin_function_or_method",
    "instance",
    "_Feature"
   ],
   "window_display": false
  }
 },
 "nbformat": 4,
 "nbformat_minor": 5
}
